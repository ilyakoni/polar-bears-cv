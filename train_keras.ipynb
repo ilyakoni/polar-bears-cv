{
 "cells": [
  {
   "cell_type": "code",
   "execution_count": 1,
   "metadata": {},
   "outputs": [
    {
     "name": "stderr",
     "output_type": "stream",
     "text": [
      "c:\\Users\\Dmitry\\Miniconda3\\envs\\AI\\lib\\site-packages\\scipy\\__init__.py:146: UserWarning: A NumPy version >=1.16.5 and <1.23.0 is required for this version of SciPy (detected version 1.23.1\n",
      "  warnings.warn(f\"A NumPy version >={np_minversion} and <{np_maxversion}\"\n"
     ]
    }
   ],
   "source": [
    "import tensorflow as tf\n",
    "from tensorflow import keras\n",
    "from tensorflow.keras import layers"
   ]
  },
  {
   "cell_type": "code",
   "execution_count": 4,
   "metadata": {},
   "outputs": [],
   "source": [
    "image_size = (256, 256)\n",
    "batch_size = 16"
   ]
  },
  {
   "cell_type": "code",
   "execution_count": 11,
   "metadata": {},
   "outputs": [
    {
     "name": "stdout",
     "output_type": "stream",
     "text": [
      "You must install pydot (`pip install pydot`) and install graphviz (see instructions at https://graphviz.gitlab.io/download/) for plot_model/model_to_dot to work.\n"
     ]
    }
   ],
   "source": [
    "def make_model(input_shape, num_classes):\n",
    "    inputs = keras.Input(shape=input_shape)\n",
    "    # Image augmentation block\n",
    "    # x = data_augmentation(inputs)\n",
    "\n",
    "    # Entry block\n",
    "    x = layers.Rescaling(1.0 / 255)(inputs)\n",
    "    x = layers.Conv2D(32, 3, strides=2, padding=\"same\")(x)\n",
    "    x = layers.BatchNormalization()(x)\n",
    "    x = layers.Activation(\"relu\")(x)\n",
    "\n",
    "    x = layers.Conv2D(64, 3, padding=\"same\")(x)\n",
    "    x = layers.BatchNormalization()(x)\n",
    "    x = layers.Activation(\"relu\")(x)\n",
    "\n",
    "    previous_block_activation = x  # Set aside residual\n",
    "\n",
    "    # for size in [128, 256, 512, 728]:\n",
    "    for size in [256, 512]:\n",
    "        x = layers.Activation(\"relu\")(x)\n",
    "        x = layers.SeparableConv2D(size, 3, padding=\"same\")(x)\n",
    "        x = layers.BatchNormalization()(x)\n",
    "\n",
    "        x = layers.Activation(\"relu\")(x)\n",
    "        x = layers.SeparableConv2D(size, 3, padding=\"same\")(x)\n",
    "        x = layers.BatchNormalization()(x)\n",
    "\n",
    "        x = layers.MaxPooling2D(3, strides=2, padding=\"same\")(x)\n",
    "\n",
    "        # Project residual\n",
    "        residual = layers.Conv2D(size, 1, strides=2, padding=\"same\")(\n",
    "            previous_block_activation\n",
    "        )\n",
    "        x = layers.add([x, residual])  # Add back residual\n",
    "        previous_block_activation = x  # Set aside next residual\n",
    "\n",
    "    x = layers.SeparableConv2D(1024, 3, padding=\"same\")(x)\n",
    "    x = layers.BatchNormalization()(x)\n",
    "    x = layers.Activation(\"relu\")(x)\n",
    "\n",
    "    x = layers.GlobalAveragePooling2D()(x)\n",
    "    if num_classes == 2:\n",
    "        activation = \"sigmoid\"\n",
    "        units = 1\n",
    "    else:\n",
    "        activation = \"softmax\"\n",
    "        units = num_classes\n",
    "\n",
    "    x = layers.Dropout(0.5)(x)\n",
    "    outputs = layers.Dense(units, activation=activation)(x)\n",
    "    return keras.Model(inputs, outputs)\n",
    "\n",
    "\n",
    "model = make_model(input_shape=image_size + (3,), num_classes=2)\n",
    "keras.utils.plot_model(model, show_shapes=True)"
   ]
  },
  {
   "cell_type": "code",
   "execution_count": 12,
   "metadata": {},
   "outputs": [
    {
     "name": "stdout",
     "output_type": "stream",
     "text": [
      "Found 2231 files belonging to 2 classes.\n",
      "Using 1785 files for training.\n",
      "Found 2231 files belonging to 2 classes.\n",
      "Using 446 files for validation.\n"
     ]
    }
   ],
   "source": [
    "image_size = (256, 256)\n",
    "batch_size = 16\n",
    "\n",
    "train_ds = tf.keras.preprocessing.image_dataset_from_directory(\n",
    "    \"made_datasets\\hypothesis1_256\",\n",
    "    validation_split=0.2,\n",
    "    subset=\"training\",\n",
    "    seed=1337,\n",
    "    image_size=image_size,\n",
    "    batch_size=batch_size,\n",
    "    shuffle=True,\n",
    ")\n",
    "\n",
    "val_ds = tf.keras.preprocessing.image_dataset_from_directory(\n",
    "    \"made_datasets\\hypothesis1_256\",\n",
    "    validation_split=0.2,\n",
    "    subset=\"validation\",\n",
    "    seed=1337,\n",
    "    image_size=image_size,\n",
    "    batch_size=batch_size,\n",
    "    shuffle=True\n",
    ")\n"
   ]
  },
  {
   "cell_type": "code",
   "execution_count": 8,
   "metadata": {},
   "outputs": [],
   "source": [
    "class_weight = {0: 1.,\n",
    "                1: 50.}"
   ]
  },
  {
   "cell_type": "code",
   "execution_count": 9,
   "metadata": {},
   "outputs": [],
   "source": [
    "METRICS = [\n",
    "      keras.metrics.TruePositives(name='tp'),\n",
    "      keras.metrics.FalsePositives(name='fp'),\n",
    "      keras.metrics.TrueNegatives(name='tn'),\n",
    "      keras.metrics.FalseNegatives(name='fn'), \n",
    "      keras.metrics.BinaryAccuracy(name='accuracy'),\n",
    "      keras.metrics.Precision(name='precision'),\n",
    "      keras.metrics.Recall(name='recall'),\n",
    "      keras.metrics.AUC(name='auc'),\n",
    "      keras.metrics.AUC(name='prc', curve='PR'), # precision-recall curve\n",
    "]"
   ]
  },
  {
   "cell_type": "code",
   "execution_count": 10,
   "metadata": {},
   "outputs": [
    {
     "name": "stdout",
     "output_type": "stream",
     "text": [
      "Epoch 1/5\n",
      "112/112 [==============================] - 212s 2s/step - loss: 0.7399 - tp: 461.0000 - fp: 323.0000 - tn: 573.0000 - fn: 428.0000 - accuracy: 0.5793 - precision: 0.5880 - recall: 0.5186 - auc: 0.6147 - prc: 0.5862 - val_loss: 0.6923 - val_tp: 148.0000 - val_fp: 120.0000 - val_tn: 99.0000 - val_fn: 79.0000 - val_accuracy: 0.5538 - val_precision: 0.5522 - val_recall: 0.6520 - val_auc: 0.5702 - val_prc: 0.6095\n",
      "Epoch 2/5\n",
      "112/112 [==============================] - 188s 2s/step - loss: 0.6628 - tp: 524.0000 - fp: 289.0000 - tn: 607.0000 - fn: 365.0000 - accuracy: 0.6336 - precision: 0.6445 - recall: 0.5894 - auc: 0.6839 - prc: 0.6745 - val_loss: 0.6868 - val_tp: 227.0000 - val_fp: 219.0000 - val_tn: 0.0000e+00 - val_fn: 0.0000e+00 - val_accuracy: 0.5090 - val_precision: 0.5090 - val_recall: 1.0000 - val_auc: 0.6313 - val_prc: 0.6976\n",
      "Epoch 3/5\n",
      "112/112 [==============================] - 194s 2s/step - loss: 0.6323 - tp: 560.0000 - fp: 300.0000 - tn: 596.0000 - fn: 329.0000 - accuracy: 0.6476 - precision: 0.6512 - recall: 0.6299 - auc: 0.7050 - prc: 0.7162 - val_loss: 0.6398 - val_tp: 146.0000 - val_fp: 90.0000 - val_tn: 129.0000 - val_fn: 81.0000 - val_accuracy: 0.6166 - val_precision: 0.6186 - val_recall: 0.6432 - val_auc: 0.6671 - val_prc: 0.7193\n",
      "Epoch 4/5\n",
      "112/112 [==============================] - 192s 2s/step - loss: 0.6176 - tp: 571.0000 - fp: 260.0000 - tn: 636.0000 - fn: 318.0000 - accuracy: 0.6762 - precision: 0.6871 - recall: 0.6423 - auc: 0.7372 - prc: 0.7325 - val_loss: 0.6407 - val_tp: 155.0000 - val_fp: 98.0000 - val_tn: 121.0000 - val_fn: 72.0000 - val_accuracy: 0.6188 - val_precision: 0.6126 - val_recall: 0.6828 - val_auc: 0.7006 - val_prc: 0.7512\n",
      "Epoch 5/5\n",
      "112/112 [==============================] - 185s 2s/step - loss: 0.5958 - tp: 605.0000 - fp: 254.0000 - tn: 642.0000 - fn: 284.0000 - accuracy: 0.6986 - precision: 0.7043 - recall: 0.6805 - auc: 0.7647 - prc: 0.7641 - val_loss: 0.9832 - val_tp: 225.0000 - val_fp: 196.0000 - val_tn: 23.0000 - val_fn: 2.0000 - val_accuracy: 0.5561 - val_precision: 0.5344 - val_recall: 0.9912 - val_auc: 0.6379 - val_prc: 0.6993\n"
     ]
    },
    {
     "data": {
      "text/plain": [
       "<keras.callbacks.History at 0x2064615ffa0>"
      ]
     },
     "execution_count": 10,
     "metadata": {},
     "output_type": "execute_result"
    }
   ],
   "source": [
    "epochs = 5\n",
    "\n",
    "model.compile(\n",
    "    optimizer=keras.optimizers.Adam(1e-3),\n",
    "    loss=\"binary_crossentropy\",\n",
    "    metrics=METRICS,\n",
    ")\n",
    "\n",
    "model.fit(\n",
    "    train_ds, epochs=epochs, validation_data=val_ds\n",
    ")"
   ]
  }
 ],
 "metadata": {
  "kernelspec": {
   "display_name": "Python 3.9.7 ('AI')",
   "language": "python",
   "name": "python3"
  },
  "language_info": {
   "codemirror_mode": {
    "name": "ipython",
    "version": 3
   },
   "file_extension": ".py",
   "mimetype": "text/x-python",
   "name": "python",
   "nbconvert_exporter": "python",
   "pygments_lexer": "ipython3",
   "version": "3.9.7"
  },
  "orig_nbformat": 4,
  "vscode": {
   "interpreter": {
    "hash": "6db1249b3512973e8537fc232109a2bfc41f2f3161c5391a3397b54c6e41a6c0"
   }
  }
 },
 "nbformat": 4,
 "nbformat_minor": 2
}
